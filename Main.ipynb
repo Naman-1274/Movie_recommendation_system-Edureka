{
 "cells": [
  {
   "cell_type": "code",
   "execution_count": 1,
   "metadata": {},
   "outputs": [],
   "source": [
    "import numpy as np\n",
    "import pandas as pd\n",
    "import matplotlib.pyplot as plt\n",
    "%matplotlib inline\n",
    "import seaborn as sns\n",
    "import warnings\n",
    "warnings.filterwarnings('ignore')\n",
    "import pickle"
   ]
  },
  {
   "cell_type": "markdown",
   "metadata": {},
   "source": [
    "Step 1 : Data loading"
   ]
  },
  {
   "cell_type": "code",
   "execution_count": 10,
   "metadata": {},
   "outputs": [],
   "source": [
    "Movie = pd.read_csv(r\"C:\\Users\\NAMAN\\Downloads\\movies.csv\")\n",
    "Rating = pd.read_csv(r\"C:\\Users\\NAMAN\\Downloads\\ratings.csv\")"
   ]
  },
  {
   "cell_type": "markdown",
   "metadata": {},
   "source": [
    "Step 2 : Data cleaning"
   ]
  },
  {
   "cell_type": "code",
   "execution_count": 11,
   "metadata": {},
   "outputs": [
    {
     "name": "stdout",
     "output_type": "stream",
     "text": [
      "(10329, 3)\n"
     ]
    },
    {
     "data": {
      "text/html": [
       "<div>\n",
       "<style scoped>\n",
       "    .dataframe tbody tr th:only-of-type {\n",
       "        vertical-align: middle;\n",
       "    }\n",
       "\n",
       "    .dataframe tbody tr th {\n",
       "        vertical-align: top;\n",
       "    }\n",
       "\n",
       "    .dataframe thead th {\n",
       "        text-align: right;\n",
       "    }\n",
       "</style>\n",
       "<table border=\"1\" class=\"dataframe\">\n",
       "  <thead>\n",
       "    <tr style=\"text-align: right;\">\n",
       "      <th></th>\n",
       "      <th>movieId</th>\n",
       "      <th>title</th>\n",
       "      <th>genres</th>\n",
       "    </tr>\n",
       "  </thead>\n",
       "  <tbody>\n",
       "    <tr>\n",
       "      <th>0</th>\n",
       "      <td>1</td>\n",
       "      <td>Toy Story (1995)</td>\n",
       "      <td>Adventure|Animation|Children|Comedy|Fantasy</td>\n",
       "    </tr>\n",
       "    <tr>\n",
       "      <th>1</th>\n",
       "      <td>2</td>\n",
       "      <td>Jumanji (1995)</td>\n",
       "      <td>Adventure|Children|Fantasy</td>\n",
       "    </tr>\n",
       "    <tr>\n",
       "      <th>2</th>\n",
       "      <td>3</td>\n",
       "      <td>Grumpier Old Men (1995)</td>\n",
       "      <td>Comedy|Romance</td>\n",
       "    </tr>\n",
       "    <tr>\n",
       "      <th>3</th>\n",
       "      <td>4</td>\n",
       "      <td>Waiting to Exhale (1995)</td>\n",
       "      <td>Comedy|Drama|Romance</td>\n",
       "    </tr>\n",
       "    <tr>\n",
       "      <th>4</th>\n",
       "      <td>5</td>\n",
       "      <td>Father of the Bride Part II (1995)</td>\n",
       "      <td>Comedy</td>\n",
       "    </tr>\n",
       "  </tbody>\n",
       "</table>\n",
       "</div>"
      ],
      "text/plain": [
       "   movieId                               title  \\\n",
       "0        1                    Toy Story (1995)   \n",
       "1        2                      Jumanji (1995)   \n",
       "2        3             Grumpier Old Men (1995)   \n",
       "3        4            Waiting to Exhale (1995)   \n",
       "4        5  Father of the Bride Part II (1995)   \n",
       "\n",
       "                                        genres  \n",
       "0  Adventure|Animation|Children|Comedy|Fantasy  \n",
       "1                   Adventure|Children|Fantasy  \n",
       "2                               Comedy|Romance  \n",
       "3                         Comedy|Drama|Romance  \n",
       "4                                       Comedy  "
      ]
     },
     "execution_count": 11,
     "metadata": {},
     "output_type": "execute_result"
    }
   ],
   "source": [
    "print(Movie.shape)\n",
    "Movie.head()"
   ]
  },
  {
   "cell_type": "code",
   "execution_count": 12,
   "metadata": {},
   "outputs": [
    {
     "name": "stdout",
     "output_type": "stream",
     "text": [
      "0\n"
     ]
    }
   ],
   "source": [
    "print(Movie[Movie['title'] == 'Toy Story (1995)'].index[0])"
   ]
  },
  {
   "cell_type": "code",
   "execution_count": 13,
   "metadata": {},
   "outputs": [
    {
     "name": "stdout",
     "output_type": "stream",
     "text": [
      "movieId    0\n",
      "title      0\n",
      "genres     0\n",
      "dtype: int64\n",
      "<class 'pandas.core.frame.DataFrame'>\n",
      "RangeIndex: 10329 entries, 0 to 10328\n",
      "Data columns (total 3 columns):\n",
      " #   Column   Non-Null Count  Dtype \n",
      "---  ------   --------------  ----- \n",
      " 0   movieId  10329 non-null  int64 \n",
      " 1   title    10329 non-null  object\n",
      " 2   genres   10329 non-null  object\n",
      "dtypes: int64(1), object(2)\n",
      "memory usage: 242.2+ KB\n",
      "None\n"
     ]
    }
   ],
   "source": [
    "print(Movie.isna().sum()) # check for null vals\n",
    "print(Movie.info())"
   ]
  },
  {
   "cell_type": "code",
   "execution_count": 14,
   "metadata": {},
   "outputs": [
    {
     "name": "stdout",
     "output_type": "stream",
     "text": [
      "0\n"
     ]
    },
    {
     "data": {
      "text/html": [
       "<div>\n",
       "<style scoped>\n",
       "    .dataframe tbody tr th:only-of-type {\n",
       "        vertical-align: middle;\n",
       "    }\n",
       "\n",
       "    .dataframe tbody tr th {\n",
       "        vertical-align: top;\n",
       "    }\n",
       "\n",
       "    .dataframe thead th {\n",
       "        text-align: right;\n",
       "    }\n",
       "</style>\n",
       "<table border=\"1\" class=\"dataframe\">\n",
       "  <thead>\n",
       "    <tr style=\"text-align: right;\">\n",
       "      <th></th>\n",
       "      <th>movieId</th>\n",
       "    </tr>\n",
       "  </thead>\n",
       "  <tbody>\n",
       "    <tr>\n",
       "      <th>count</th>\n",
       "      <td>10329.000000</td>\n",
       "    </tr>\n",
       "    <tr>\n",
       "      <th>mean</th>\n",
       "      <td>31924.282893</td>\n",
       "    </tr>\n",
       "    <tr>\n",
       "      <th>std</th>\n",
       "      <td>37734.741149</td>\n",
       "    </tr>\n",
       "    <tr>\n",
       "      <th>min</th>\n",
       "      <td>1.000000</td>\n",
       "    </tr>\n",
       "    <tr>\n",
       "      <th>25%</th>\n",
       "      <td>3240.000000</td>\n",
       "    </tr>\n",
       "    <tr>\n",
       "      <th>50%</th>\n",
       "      <td>7088.000000</td>\n",
       "    </tr>\n",
       "    <tr>\n",
       "      <th>75%</th>\n",
       "      <td>59900.000000</td>\n",
       "    </tr>\n",
       "    <tr>\n",
       "      <th>max</th>\n",
       "      <td>149532.000000</td>\n",
       "    </tr>\n",
       "  </tbody>\n",
       "</table>\n",
       "</div>"
      ],
      "text/plain": [
       "             movieId\n",
       "count   10329.000000\n",
       "mean    31924.282893\n",
       "std     37734.741149\n",
       "min         1.000000\n",
       "25%      3240.000000\n",
       "50%      7088.000000\n",
       "75%     59900.000000\n",
       "max    149532.000000"
      ]
     },
     "execution_count": 14,
     "metadata": {},
     "output_type": "execute_result"
    }
   ],
   "source": [
    "print(Movie.duplicated().sum()) # check for duplicated vals\n",
    "Movie.describe() # summary statistics"
   ]
  },
  {
   "cell_type": "code",
   "execution_count": 15,
   "metadata": {},
   "outputs": [
    {
     "name": "stdout",
     "output_type": "stream",
     "text": [
      "(105339, 4)\n"
     ]
    },
    {
     "data": {
      "text/html": [
       "<div>\n",
       "<style scoped>\n",
       "    .dataframe tbody tr th:only-of-type {\n",
       "        vertical-align: middle;\n",
       "    }\n",
       "\n",
       "    .dataframe tbody tr th {\n",
       "        vertical-align: top;\n",
       "    }\n",
       "\n",
       "    .dataframe thead th {\n",
       "        text-align: right;\n",
       "    }\n",
       "</style>\n",
       "<table border=\"1\" class=\"dataframe\">\n",
       "  <thead>\n",
       "    <tr style=\"text-align: right;\">\n",
       "      <th></th>\n",
       "      <th>userId</th>\n",
       "      <th>movieId</th>\n",
       "      <th>rating</th>\n",
       "      <th>timestamp</th>\n",
       "    </tr>\n",
       "  </thead>\n",
       "  <tbody>\n",
       "    <tr>\n",
       "      <th>0</th>\n",
       "      <td>1</td>\n",
       "      <td>16</td>\n",
       "      <td>4.0</td>\n",
       "      <td>1217897793</td>\n",
       "    </tr>\n",
       "    <tr>\n",
       "      <th>1</th>\n",
       "      <td>1</td>\n",
       "      <td>24</td>\n",
       "      <td>1.5</td>\n",
       "      <td>1217895807</td>\n",
       "    </tr>\n",
       "    <tr>\n",
       "      <th>2</th>\n",
       "      <td>1</td>\n",
       "      <td>32</td>\n",
       "      <td>4.0</td>\n",
       "      <td>1217896246</td>\n",
       "    </tr>\n",
       "    <tr>\n",
       "      <th>3</th>\n",
       "      <td>1</td>\n",
       "      <td>47</td>\n",
       "      <td>4.0</td>\n",
       "      <td>1217896556</td>\n",
       "    </tr>\n",
       "    <tr>\n",
       "      <th>4</th>\n",
       "      <td>1</td>\n",
       "      <td>50</td>\n",
       "      <td>4.0</td>\n",
       "      <td>1217896523</td>\n",
       "    </tr>\n",
       "  </tbody>\n",
       "</table>\n",
       "</div>"
      ],
      "text/plain": [
       "   userId  movieId  rating   timestamp\n",
       "0       1       16     4.0  1217897793\n",
       "1       1       24     1.5  1217895807\n",
       "2       1       32     4.0  1217896246\n",
       "3       1       47     4.0  1217896556\n",
       "4       1       50     4.0  1217896523"
      ]
     },
     "execution_count": 15,
     "metadata": {},
     "output_type": "execute_result"
    }
   ],
   "source": [
    "print(Rating.shape)\n",
    "Rating.head()"
   ]
  },
  {
   "cell_type": "code",
   "execution_count": 16,
   "metadata": {},
   "outputs": [
    {
     "name": "stdout",
     "output_type": "stream",
     "text": [
      "userId       0\n",
      "movieId      0\n",
      "rating       0\n",
      "timestamp    0\n",
      "dtype: int64\n",
      "<class 'pandas.core.frame.DataFrame'>\n",
      "RangeIndex: 105339 entries, 0 to 105338\n",
      "Data columns (total 4 columns):\n",
      " #   Column     Non-Null Count   Dtype  \n",
      "---  ------     --------------   -----  \n",
      " 0   userId     105339 non-null  int64  \n",
      " 1   movieId    105339 non-null  int64  \n",
      " 2   rating     105339 non-null  float64\n",
      " 3   timestamp  105339 non-null  int64  \n",
      "dtypes: float64(1), int64(3)\n",
      "memory usage: 3.2 MB\n",
      "None\n"
     ]
    }
   ],
   "source": [
    "print(Rating.isna().sum())\n",
    "print(Rating.info())"
   ]
  },
  {
   "cell_type": "code",
   "execution_count": 17,
   "metadata": {},
   "outputs": [
    {
     "name": "stdout",
     "output_type": "stream",
     "text": [
      "0\n",
      "movieId\n",
      "296       325\n",
      "356       311\n",
      "318       308\n",
      "480       294\n",
      "593       290\n",
      "         ... \n",
      "133583      1\n",
      "132961      1\n",
      "132883      1\n",
      "132800      1\n",
      "132796      1\n",
      "Name: count, Length: 10325, dtype: int64\n"
     ]
    }
   ],
   "source": [
    "print(Rating.duplicated().sum())\n",
    "print(Rating['movieId'].value_counts()) # The count value of ratings for each movie"
   ]
  },
  {
   "cell_type": "code",
   "execution_count": 18,
   "metadata": {},
   "outputs": [
    {
     "data": {
      "text/html": [
       "<div>\n",
       "<style scoped>\n",
       "    .dataframe tbody tr th:only-of-type {\n",
       "        vertical-align: middle;\n",
       "    }\n",
       "\n",
       "    .dataframe tbody tr th {\n",
       "        vertical-align: top;\n",
       "    }\n",
       "\n",
       "    .dataframe thead th {\n",
       "        text-align: right;\n",
       "    }\n",
       "</style>\n",
       "<table border=\"1\" class=\"dataframe\">\n",
       "  <thead>\n",
       "    <tr style=\"text-align: right;\">\n",
       "      <th></th>\n",
       "      <th>userId</th>\n",
       "      <th>movieId</th>\n",
       "      <th>rating</th>\n",
       "      <th>timestamp</th>\n",
       "    </tr>\n",
       "  </thead>\n",
       "  <tbody>\n",
       "    <tr>\n",
       "      <th>count</th>\n",
       "      <td>105339.000000</td>\n",
       "      <td>105339.000000</td>\n",
       "      <td>105339.000000</td>\n",
       "      <td>1.053390e+05</td>\n",
       "    </tr>\n",
       "    <tr>\n",
       "      <th>mean</th>\n",
       "      <td>364.924539</td>\n",
       "      <td>13381.312477</td>\n",
       "      <td>3.516850</td>\n",
       "      <td>1.130424e+09</td>\n",
       "    </tr>\n",
       "    <tr>\n",
       "      <th>std</th>\n",
       "      <td>197.486905</td>\n",
       "      <td>26170.456869</td>\n",
       "      <td>1.044872</td>\n",
       "      <td>1.802660e+08</td>\n",
       "    </tr>\n",
       "    <tr>\n",
       "      <th>min</th>\n",
       "      <td>1.000000</td>\n",
       "      <td>1.000000</td>\n",
       "      <td>0.500000</td>\n",
       "      <td>8.285650e+08</td>\n",
       "    </tr>\n",
       "    <tr>\n",
       "      <th>25%</th>\n",
       "      <td>192.000000</td>\n",
       "      <td>1073.000000</td>\n",
       "      <td>3.000000</td>\n",
       "      <td>9.711008e+08</td>\n",
       "    </tr>\n",
       "    <tr>\n",
       "      <th>50%</th>\n",
       "      <td>383.000000</td>\n",
       "      <td>2497.000000</td>\n",
       "      <td>3.500000</td>\n",
       "      <td>1.115154e+09</td>\n",
       "    </tr>\n",
       "    <tr>\n",
       "      <th>75%</th>\n",
       "      <td>557.000000</td>\n",
       "      <td>5991.000000</td>\n",
       "      <td>4.000000</td>\n",
       "      <td>1.275496e+09</td>\n",
       "    </tr>\n",
       "    <tr>\n",
       "      <th>max</th>\n",
       "      <td>668.000000</td>\n",
       "      <td>149532.000000</td>\n",
       "      <td>5.000000</td>\n",
       "      <td>1.452405e+09</td>\n",
       "    </tr>\n",
       "  </tbody>\n",
       "</table>\n",
       "</div>"
      ],
      "text/plain": [
       "              userId        movieId         rating     timestamp\n",
       "count  105339.000000  105339.000000  105339.000000  1.053390e+05\n",
       "mean      364.924539   13381.312477       3.516850  1.130424e+09\n",
       "std       197.486905   26170.456869       1.044872  1.802660e+08\n",
       "min         1.000000       1.000000       0.500000  8.285650e+08\n",
       "25%       192.000000    1073.000000       3.000000  9.711008e+08\n",
       "50%       383.000000    2497.000000       3.500000  1.115154e+09\n",
       "75%       557.000000    5991.000000       4.000000  1.275496e+09\n",
       "max       668.000000  149532.000000       5.000000  1.452405e+09"
      ]
     },
     "execution_count": 18,
     "metadata": {},
     "output_type": "execute_result"
    }
   ],
   "source": [
    "Rating.describe() # summary statistics"
   ]
  },
  {
   "cell_type": "code",
   "execution_count": 19,
   "metadata": {},
   "outputs": [],
   "source": [
    "def fetch_title_year(obj):\n",
    "    title = obj[:obj.index('(')].strip()                                            # taking the substring before the first '(' and removing any leading spaces\n",
    "    year = obj[obj.index('(') + 1:obj.index(')')]                                   # taking the substring between the first '(' and the first ')'\n",
    "    return title, year\n",
    "\n",
    "Movie[['title', 'year']] = Movie['title'].apply(lambda x: pd.Series(fetch_title_year(x)))"
   ]
  },
  {
   "cell_type": "code",
   "execution_count": 20,
   "metadata": {},
   "outputs": [],
   "source": [
    "Movie['genres'] = Movie['genres'].str.replace('|',',')"
   ]
  },
  {
   "cell_type": "code",
   "execution_count": 21,
   "metadata": {},
   "outputs": [],
   "source": [
    "Rating['timestamp'] = pd.to_datetime(Rating['timestamp'],unit='s')          # changed timestamp to a proper data and time "
   ]
  },
  {
   "cell_type": "code",
   "execution_count": 22,
   "metadata": {},
   "outputs": [
    {
     "data": {
      "text/html": [
       "<div>\n",
       "<style scoped>\n",
       "    .dataframe tbody tr th:only-of-type {\n",
       "        vertical-align: middle;\n",
       "    }\n",
       "\n",
       "    .dataframe tbody tr th {\n",
       "        vertical-align: top;\n",
       "    }\n",
       "\n",
       "    .dataframe thead th {\n",
       "        text-align: right;\n",
       "    }\n",
       "</style>\n",
       "<table border=\"1\" class=\"dataframe\">\n",
       "  <thead>\n",
       "    <tr style=\"text-align: right;\">\n",
       "      <th></th>\n",
       "      <th>movieId</th>\n",
       "      <th>title</th>\n",
       "      <th>genres</th>\n",
       "      <th>year</th>\n",
       "      <th>userId</th>\n",
       "      <th>rating</th>\n",
       "      <th>timestamp</th>\n",
       "    </tr>\n",
       "  </thead>\n",
       "  <tbody>\n",
       "    <tr>\n",
       "      <th>0</th>\n",
       "      <td>1</td>\n",
       "      <td>Toy Story</td>\n",
       "      <td>Adventure,Animation,Children,Comedy,Fantasy</td>\n",
       "      <td>1995</td>\n",
       "      <td>2</td>\n",
       "      <td>5.0</td>\n",
       "      <td>1997-03-22 16:08:15</td>\n",
       "    </tr>\n",
       "    <tr>\n",
       "      <th>1</th>\n",
       "      <td>1</td>\n",
       "      <td>Toy Story</td>\n",
       "      <td>Adventure,Animation,Children,Comedy,Fantasy</td>\n",
       "      <td>1995</td>\n",
       "      <td>5</td>\n",
       "      <td>4.0</td>\n",
       "      <td>2011-04-22 19:37:19</td>\n",
       "    </tr>\n",
       "    <tr>\n",
       "      <th>2</th>\n",
       "      <td>1</td>\n",
       "      <td>Toy Story</td>\n",
       "      <td>Adventure,Animation,Children,Comedy,Fantasy</td>\n",
       "      <td>1995</td>\n",
       "      <td>8</td>\n",
       "      <td>5.0</td>\n",
       "      <td>1997-03-17 15:02:13</td>\n",
       "    </tr>\n",
       "    <tr>\n",
       "      <th>3</th>\n",
       "      <td>1</td>\n",
       "      <td>Toy Story</td>\n",
       "      <td>Adventure,Animation,Children,Comedy,Fantasy</td>\n",
       "      <td>1995</td>\n",
       "      <td>11</td>\n",
       "      <td>4.0</td>\n",
       "      <td>1996-12-17 09:43:30</td>\n",
       "    </tr>\n",
       "    <tr>\n",
       "      <th>4</th>\n",
       "      <td>1</td>\n",
       "      <td>Toy Story</td>\n",
       "      <td>Adventure,Animation,Children,Comedy,Fantasy</td>\n",
       "      <td>1995</td>\n",
       "      <td>14</td>\n",
       "      <td>4.0</td>\n",
       "      <td>1996-12-28 09:44:46</td>\n",
       "    </tr>\n",
       "  </tbody>\n",
       "</table>\n",
       "</div>"
      ],
      "text/plain": [
       "   movieId      title                                       genres  year  \\\n",
       "0        1  Toy Story  Adventure,Animation,Children,Comedy,Fantasy  1995   \n",
       "1        1  Toy Story  Adventure,Animation,Children,Comedy,Fantasy  1995   \n",
       "2        1  Toy Story  Adventure,Animation,Children,Comedy,Fantasy  1995   \n",
       "3        1  Toy Story  Adventure,Animation,Children,Comedy,Fantasy  1995   \n",
       "4        1  Toy Story  Adventure,Animation,Children,Comedy,Fantasy  1995   \n",
       "\n",
       "   userId  rating           timestamp  \n",
       "0       2     5.0 1997-03-22 16:08:15  \n",
       "1       5     4.0 2011-04-22 19:37:19  \n",
       "2       8     5.0 1997-03-17 15:02:13  \n",
       "3      11     4.0 1996-12-17 09:43:30  \n",
       "4      14     4.0 1996-12-28 09:44:46  "
      ]
     },
     "execution_count": 22,
     "metadata": {},
     "output_type": "execute_result"
    }
   ],
   "source": [
    "df = Movie.merge(Rating,on='movieId')                                       # Merge the 'Movie' and 'Rating' DataFrames\n",
    "df.head()"
   ]
  },
  {
   "cell_type": "code",
   "execution_count": 23,
   "metadata": {},
   "outputs": [
    {
     "name": "stdout",
     "output_type": "stream",
     "text": [
      "(105339, 7)\n"
     ]
    },
    {
     "data": {
      "text/html": [
       "<div>\n",
       "<style scoped>\n",
       "    .dataframe tbody tr th:only-of-type {\n",
       "        vertical-align: middle;\n",
       "    }\n",
       "\n",
       "    .dataframe tbody tr th {\n",
       "        vertical-align: top;\n",
       "    }\n",
       "\n",
       "    .dataframe thead th {\n",
       "        text-align: right;\n",
       "    }\n",
       "</style>\n",
       "<table border=\"1\" class=\"dataframe\">\n",
       "  <thead>\n",
       "    <tr style=\"text-align: right;\">\n",
       "      <th></th>\n",
       "      <th>movieId</th>\n",
       "      <th>userId</th>\n",
       "      <th>rating</th>\n",
       "      <th>timestamp</th>\n",
       "    </tr>\n",
       "  </thead>\n",
       "  <tbody>\n",
       "    <tr>\n",
       "      <th>count</th>\n",
       "      <td>105339.0</td>\n",
       "      <td>105339.0</td>\n",
       "      <td>105339.0</td>\n",
       "      <td>105339</td>\n",
       "    </tr>\n",
       "    <tr>\n",
       "      <th>mean</th>\n",
       "      <td>13381.3</td>\n",
       "      <td>364.9</td>\n",
       "      <td>3.5</td>\n",
       "      <td>2005-10-27 14:39:31.974254592</td>\n",
       "    </tr>\n",
       "    <tr>\n",
       "      <th>min</th>\n",
       "      <td>1.0</td>\n",
       "      <td>1.0</td>\n",
       "      <td>0.5</td>\n",
       "      <td>1996-04-03 20:55:54</td>\n",
       "    </tr>\n",
       "    <tr>\n",
       "      <th>25%</th>\n",
       "      <td>1073.0</td>\n",
       "      <td>192.0</td>\n",
       "      <td>3.0</td>\n",
       "      <td>2000-10-09 14:13:17.500000</td>\n",
       "    </tr>\n",
       "    <tr>\n",
       "      <th>50%</th>\n",
       "      <td>2497.0</td>\n",
       "      <td>383.0</td>\n",
       "      <td>3.5</td>\n",
       "      <td>2005-05-03 21:00:56</td>\n",
       "    </tr>\n",
       "    <tr>\n",
       "      <th>75%</th>\n",
       "      <td>5991.0</td>\n",
       "      <td>557.0</td>\n",
       "      <td>4.0</td>\n",
       "      <td>2010-06-02 16:26:38.500000</td>\n",
       "    </tr>\n",
       "    <tr>\n",
       "      <th>max</th>\n",
       "      <td>149532.0</td>\n",
       "      <td>668.0</td>\n",
       "      <td>5.0</td>\n",
       "      <td>2016-01-10 05:48:39</td>\n",
       "    </tr>\n",
       "    <tr>\n",
       "      <th>std</th>\n",
       "      <td>26170.5</td>\n",
       "      <td>197.5</td>\n",
       "      <td>1.0</td>\n",
       "      <td>NaN</td>\n",
       "    </tr>\n",
       "  </tbody>\n",
       "</table>\n",
       "</div>"
      ],
      "text/plain": [
       "        movieId    userId    rating                      timestamp\n",
       "count  105339.0  105339.0  105339.0                         105339\n",
       "mean    13381.3     364.9       3.5  2005-10-27 14:39:31.974254592\n",
       "min         1.0       1.0       0.5            1996-04-03 20:55:54\n",
       "25%      1073.0     192.0       3.0     2000-10-09 14:13:17.500000\n",
       "50%      2497.0     383.0       3.5            2005-05-03 21:00:56\n",
       "75%      5991.0     557.0       4.0     2010-06-02 16:26:38.500000\n",
       "max    149532.0     668.0       5.0            2016-01-10 05:48:39\n",
       "std     26170.5     197.5       1.0                            NaN"
      ]
     },
     "execution_count": 23,
     "metadata": {},
     "output_type": "execute_result"
    }
   ],
   "source": [
    "print(df.shape)\n",
    "df.describe().round(1)"
   ]
  },
  {
   "cell_type": "code",
   "execution_count": 24,
   "metadata": {},
   "outputs": [
    {
     "data": {
      "text/plain": [
       "title\n",
       "Pulp Fiction                       325\n",
       "Forrest Gump                       311\n",
       "Shawshank Redemption, The          308\n",
       "Jurassic Park                      294\n",
       "Silence of the Lambs, The          290\n",
       "                                  ... \n",
       "Plenty                               1\n",
       "Assassination                        1\n",
       "Runoff                               1\n",
       "Women of the Prehistoric Planet      1\n",
       "Velocity of Gary, The                1\n",
       "Name: count, Length: 9944, dtype: int64"
      ]
     },
     "execution_count": 24,
     "metadata": {},
     "output_type": "execute_result"
    }
   ],
   "source": [
    "df['title'].value_counts() # Count the of each movietitle occurrences"
   ]
  },
  {
   "cell_type": "markdown",
   "metadata": {},
   "source": [
    "Objective(num 1)\n",
    "\n",
    "Create a popularity based recommender system at a genre level :-"
   ]
  },
  {
   "cell_type": "code",
   "execution_count": 25,
   "metadata": {},
   "outputs": [],
   "source": [
    "def recommender(genre, review_threshold, Num_recommendations):\n",
    "    movie_genre = df[df['genres'].str.contains(genre)]                                                  # Filter the dataframe to include only movies that belong to specied genres\n",
    "    vals = movie_genre.groupby(['title']).agg({'rating': ['mean', 'count']}).reset_index()              # Group the filtered DataFrame by 'title' and calculate the mean rating and the count\n",
    "    vals.columns=['title','Avg_rating','num_reviews']                                                   # change the column names\n",
    "    filtered_vals = vals[vals['num_reviews'] >= review_threshold]                                       # Filter the dataframe to include only movies greater and equal to reviews\n",
    "    top_movies = filtered_vals.sort_values('Avg_rating',ascending=False).head(Num_recommendations)      # Sort the movies(descending order) and select the top N recommendations\n",
    "    return top_movies"
   ]
  },
  {
   "cell_type": "code",
   "execution_count": 26,
   "metadata": {},
   "outputs": [
    {
     "data": {
      "text/html": [
       "<div>\n",
       "<style scoped>\n",
       "    .dataframe tbody tr th:only-of-type {\n",
       "        vertical-align: middle;\n",
       "    }\n",
       "\n",
       "    .dataframe tbody tr th {\n",
       "        vertical-align: top;\n",
       "    }\n",
       "\n",
       "    .dataframe thead th {\n",
       "        text-align: right;\n",
       "    }\n",
       "</style>\n",
       "<table border=\"1\" class=\"dataframe\">\n",
       "  <thead>\n",
       "    <tr style=\"text-align: right;\">\n",
       "      <th></th>\n",
       "      <th>title</th>\n",
       "      <th>Avg_rating</th>\n",
       "      <th>num_reviews</th>\n",
       "    </tr>\n",
       "  </thead>\n",
       "  <tbody>\n",
       "    <tr>\n",
       "      <th>4015</th>\n",
       "      <td>Shawshank Redemption, The</td>\n",
       "      <td>4.454545</td>\n",
       "      <td>308</td>\n",
       "    </tr>\n",
       "    <tr>\n",
       "      <th>1819</th>\n",
       "      <td>Godfather, The</td>\n",
       "      <td>4.392857</td>\n",
       "      <td>210</td>\n",
       "    </tr>\n",
       "    <tr>\n",
       "      <th>3920</th>\n",
       "      <td>Schindler's List</td>\n",
       "      <td>4.296371</td>\n",
       "      <td>248</td>\n",
       "    </tr>\n",
       "    <tr>\n",
       "      <th>3296</th>\n",
       "      <td>One Flew Over the Cuckoo's Nest</td>\n",
       "      <td>4.272727</td>\n",
       "      <td>143</td>\n",
       "    </tr>\n",
       "    <tr>\n",
       "      <th>1555</th>\n",
       "      <td>Fargo</td>\n",
       "      <td>4.271144</td>\n",
       "      <td>201</td>\n",
       "    </tr>\n",
       "  </tbody>\n",
       "</table>\n",
       "</div>"
      ],
      "text/plain": [
       "                                title  Avg_rating  num_reviews\n",
       "4015        Shawshank Redemption, The    4.454545          308\n",
       "1819                   Godfather, The    4.392857          210\n",
       "3920                 Schindler's List    4.296371          248\n",
       "3296  One Flew Over the Cuckoo's Nest    4.272727          143\n",
       "1555                            Fargo    4.271144          201"
      ]
     },
     "execution_count": 26,
     "metadata": {},
     "output_type": "execute_result"
    }
   ],
   "source": [
    "Top5_Movies = recommender('Drama',100,5)\n",
    "Top5_Movies.head()                                 # calling the function"
   ]
  },
  {
   "cell_type": "code",
   "execution_count": 27,
   "metadata": {},
   "outputs": [
    {
     "data": {
      "image/png": "[encoded data removed]",
      "text/plain": [
       "<Figure size 1000x600 with 1 Axes>"
      ]
     },
     "metadata": {},
     "output_type": "display_data"
    }
   ],
   "source": [
    "plt.figure(figsize=(10,6))\n",
    "sns.barplot(data=Top5_Movies,x='Avg_rating',y='title',color='skyblue')\n",
    "plt.xlabel('Avg_rating')\n",
    "plt.ylabel('title')\n",
    "plt.show()"
   ]
  },
  {
   "cell_type": "markdown",
   "metadata": {},
   "source": [
    "Objective(num 2)\n",
    "\n",
    "Create a content based recommender system :-"
   ]
  },
  {
   "cell_type": "code",
   "execution_count": 28,
   "metadata": {},
   "outputs": [],
   "source": [
    "from sklearn.feature_extraction.text import TfidfVectorizer\n",
    "from sklearn.metrics.pairwise import cosine_similarity"
   ]
  },
  {
   "cell_type": "code",
   "execution_count": 29,
   "metadata": {},
   "outputs": [],
   "source": [
    "cv = TfidfVectorizer()\n",
    "vectors = cv.fit_transform(Movie['genres'])     # converting raw genres docs to TF-IDF vals"
   ]
  },
  {
   "cell_type": "code",
   "execution_count": 30,
   "metadata": {},
   "outputs": [
    {
     "data": {
      "text/plain": [
       "array([[1.        , 0.79977247, 0.1589222 , ..., 0.2638368 , 0.        ,\n",
       "        0.        ],\n",
       "       [0.79977247, 1.        , 0.        , ..., 0.        , 0.        ,\n",
       "        0.        ],\n",
       "       [0.1589222 , 0.        , 1.        , ..., 0.60235038, 0.        ,\n",
       "        0.        ],\n",
       "       ...,\n",
       "       [0.2638368 , 0.        , 0.60235038, ..., 1.        , 0.        ,\n",
       "        0.        ],\n",
       "       [0.        , 0.        , 0.        , ..., 0.        , 1.        ,\n",
       "        0.        ],\n",
       "       [0.        , 0.        , 0.        , ..., 0.        , 0.        ,\n",
       "        1.        ]])"
      ]
     },
     "execution_count": 30,
     "metadata": {},
     "output_type": "execute_result"
    }
   ],
   "source": [
    "similarity = cosine_similarity(vectors)         # taking out similarity scores of the vectors.\n",
    "similarity"
   ]
  },
  {
   "cell_type": "code",
   "execution_count": 31,
   "metadata": {},
   "outputs": [],
   "source": [
    "def content_based_recommender(movie_title, Num_recommendations):\n",
    "    idx = Movie[Movie['title'] == movie_title].index[0]                                                             # finding the index of the movie_title\n",
    "    distance = similarity[idx]                                                                                      # get the similarity scores for the movie at the found index\n",
    "    Top_Movies = sorted(list(enumerate(distance)),reverse=True,key= lambda x : x[1])[1:Num_recommendations+1]       # ignoring the first movie i.e itself\n",
    "    \n",
    "    sr_no = 1\n",
    "    for i in Top_Movies :\n",
    "        print(sr_no,i[0],Movie.iloc[i[0]].title)\n",
    "        sr_no +=1"
   ]
  },
  {
   "cell_type": "code",
   "execution_count": 71,
   "metadata": {},
   "outputs": [
    {
     "name": "stdout",
     "output_type": "stream",
     "text": [
      "1 1815 Antz\n",
      "2 2496 Toy Story 2\n",
      "3 2967 Adventures of Rocky and Bullwinkle, The\n",
      "4 3166 Emperor's New Groove, The\n",
      "5 3811 Monsters, Inc.\n"
     ]
    }
   ],
   "source": [
    "Top5_Content_based_Movies = content_based_recommender('Toy Story',5)"
   ]
  },
  {
   "cell_type": "markdown",
   "metadata": {},
   "source": [
    "Objective(num 3)\n",
    "\n",
    "Create a collaborative based recommender system :-"
   ]
  },
  {
   "cell_type": "code",
   "execution_count": 33,
   "metadata": {},
   "outputs": [],
   "source": [
    "user_matrix = df.pivot_table(index='userId', columns='movieId', values='rating')                            # Create a user-movie matrix\n",
    "user_matrix = user_matrix.fillna(0)"
   ]
  },
  {
   "cell_type": "code",
   "execution_count": 34,
   "metadata": {},
   "outputs": [
    {
     "data": {
      "text/html": [
       "<div>\n",
       "<style scoped>\n",
       "    .dataframe tbody tr th:only-of-type {\n",
       "        vertical-align: middle;\n",
       "    }\n",
       "\n",
       "    .dataframe tbody tr th {\n",
       "        vertical-align: top;\n",
       "    }\n",
       "\n",
       "    .dataframe thead th {\n",
       "        text-align: right;\n",
       "    }\n",
       "</style>\n",
       "<table border=\"1\" class=\"dataframe\">\n",
       "  <thead>\n",
       "    <tr style=\"text-align: right;\">\n",
       "      <th>userId</th>\n",
       "      <th>1</th>\n",
       "      <th>2</th>\n",
       "      <th>3</th>\n",
       "      <th>4</th>\n",
       "      <th>5</th>\n",
       "      <th>6</th>\n",
       "      <th>7</th>\n",
       "      <th>8</th>\n",
       "      <th>9</th>\n",
       "      <th>10</th>\n",
       "      <th>...</th>\n",
       "      <th>659</th>\n",
       "      <th>660</th>\n",
       "      <th>661</th>\n",
       "      <th>662</th>\n",
       "      <th>663</th>\n",
       "      <th>664</th>\n",
       "      <th>665</th>\n",
       "      <th>666</th>\n",
       "      <th>667</th>\n",
       "      <th>668</th>\n",
       "    </tr>\n",
       "    <tr>\n",
       "      <th>userId</th>\n",
       "      <th></th>\n",
       "      <th></th>\n",
       "      <th></th>\n",
       "      <th></th>\n",
       "      <th></th>\n",
       "      <th></th>\n",
       "      <th></th>\n",
       "      <th></th>\n",
       "      <th></th>\n",
       "      <th></th>\n",
       "      <th></th>\n",
       "      <th></th>\n",
       "      <th></th>\n",
       "      <th></th>\n",
       "      <th></th>\n",
       "      <th></th>\n",
       "      <th></th>\n",
       "      <th></th>\n",
       "      <th></th>\n",
       "      <th></th>\n",
       "      <th></th>\n",
       "    </tr>\n",
       "  </thead>\n",
       "  <tbody>\n",
       "    <tr>\n",
       "      <th>1</th>\n",
       "      <td>1.000000</td>\n",
       "      <td>0.101113</td>\n",
       "      <td>0.210044</td>\n",
       "      <td>0.128766</td>\n",
       "      <td>0.057896</td>\n",
       "      <td>0.077130</td>\n",
       "      <td>0.358090</td>\n",
       "      <td>0.097434</td>\n",
       "      <td>0.239189</td>\n",
       "      <td>0.026663</td>\n",
       "      <td>...</td>\n",
       "      <td>0.291162</td>\n",
       "      <td>0.144741</td>\n",
       "      <td>0.106583</td>\n",
       "      <td>0.091049</td>\n",
       "      <td>0.236805</td>\n",
       "      <td>0.154519</td>\n",
       "      <td>0.245071</td>\n",
       "      <td>0.238660</td>\n",
       "      <td>0.278217</td>\n",
       "      <td>0.153479</td>\n",
       "    </tr>\n",
       "    <tr>\n",
       "      <th>2</th>\n",
       "      <td>0.101113</td>\n",
       "      <td>1.000000</td>\n",
       "      <td>0.115559</td>\n",
       "      <td>0.034610</td>\n",
       "      <td>0.032705</td>\n",
       "      <td>0.028305</td>\n",
       "      <td>0.062914</td>\n",
       "      <td>0.471918</td>\n",
       "      <td>0.194232</td>\n",
       "      <td>0.000000</td>\n",
       "      <td>...</td>\n",
       "      <td>0.068325</td>\n",
       "      <td>0.000000</td>\n",
       "      <td>0.477330</td>\n",
       "      <td>0.146887</td>\n",
       "      <td>0.163553</td>\n",
       "      <td>0.061737</td>\n",
       "      <td>0.050948</td>\n",
       "      <td>0.051423</td>\n",
       "      <td>0.035907</td>\n",
       "      <td>0.064816</td>\n",
       "    </tr>\n",
       "    <tr>\n",
       "      <th>3</th>\n",
       "      <td>0.210044</td>\n",
       "      <td>0.115559</td>\n",
       "      <td>1.000000</td>\n",
       "      <td>0.058208</td>\n",
       "      <td>0.044426</td>\n",
       "      <td>0.012816</td>\n",
       "      <td>0.084522</td>\n",
       "      <td>0.066620</td>\n",
       "      <td>0.459703</td>\n",
       "      <td>0.068454</td>\n",
       "      <td>...</td>\n",
       "      <td>0.152078</td>\n",
       "      <td>0.301021</td>\n",
       "      <td>0.081626</td>\n",
       "      <td>0.098949</td>\n",
       "      <td>0.310234</td>\n",
       "      <td>0.079452</td>\n",
       "      <td>0.092821</td>\n",
       "      <td>0.080940</td>\n",
       "      <td>0.158943</td>\n",
       "      <td>0.109648</td>\n",
       "    </tr>\n",
       "    <tr>\n",
       "      <th>4</th>\n",
       "      <td>0.128766</td>\n",
       "      <td>0.034610</td>\n",
       "      <td>0.058208</td>\n",
       "      <td>1.000000</td>\n",
       "      <td>0.019298</td>\n",
       "      <td>0.005781</td>\n",
       "      <td>0.059089</td>\n",
       "      <td>0.024420</td>\n",
       "      <td>0.050572</td>\n",
       "      <td>0.000000</td>\n",
       "      <td>...</td>\n",
       "      <td>0.055860</td>\n",
       "      <td>0.024329</td>\n",
       "      <td>0.040467</td>\n",
       "      <td>0.108881</td>\n",
       "      <td>0.076241</td>\n",
       "      <td>0.014011</td>\n",
       "      <td>0.042643</td>\n",
       "      <td>0.174275</td>\n",
       "      <td>0.061677</td>\n",
       "      <td>0.157794</td>\n",
       "    </tr>\n",
       "    <tr>\n",
       "      <th>5</th>\n",
       "      <td>0.057896</td>\n",
       "      <td>0.032705</td>\n",
       "      <td>0.044426</td>\n",
       "      <td>0.019298</td>\n",
       "      <td>1.000000</td>\n",
       "      <td>0.053378</td>\n",
       "      <td>0.080822</td>\n",
       "      <td>0.041536</td>\n",
       "      <td>0.023168</td>\n",
       "      <td>0.011915</td>\n",
       "      <td>...</td>\n",
       "      <td>0.058450</td>\n",
       "      <td>0.007315</td>\n",
       "      <td>0.024708</td>\n",
       "      <td>0.038163</td>\n",
       "      <td>0.053085</td>\n",
       "      <td>0.048993</td>\n",
       "      <td>0.055431</td>\n",
       "      <td>0.026053</td>\n",
       "      <td>0.086667</td>\n",
       "      <td>0.068275</td>\n",
       "    </tr>\n",
       "  </tbody>\n",
       "</table>\n",
       "<p>5 rows × 668 columns</p>\n",
       "</div>"
      ],
      "text/plain": [
       "userId       1         2         3         4         5         6         7    \\\n",
       "userId                                                                         \n",
       "1       1.000000  0.101113  0.210044  0.128766  0.057896  0.077130  0.358090   \n",
       "2       0.101113  1.000000  0.115559  0.034610  0.032705  0.028305  0.062914   \n",
       "3       0.210044  0.115559  1.000000  0.058208  0.044426  0.012816  0.084522   \n",
       "4       0.128766  0.034610  0.058208  1.000000  0.019298  0.005781  0.059089   \n",
       "5       0.057896  0.032705  0.044426  0.019298  1.000000  0.053378  0.080822   \n",
       "\n",
       "userId       8         9         10   ...       659       660       661  \\\n",
       "userId                                ...                                 \n",
       "1       0.097434  0.239189  0.026663  ...  0.291162  0.144741  0.106583   \n",
       "2       0.471918  0.194232  0.000000  ...  0.068325  0.000000  0.477330   \n",
       "3       0.066620  0.459703  0.068454  ...  0.152078  0.301021  0.081626   \n",
       "4       0.024420  0.050572  0.000000  ...  0.055860  0.024329  0.040467   \n",
       "5       0.041536  0.023168  0.011915  ...  0.058450  0.007315  0.024708   \n",
       "\n",
       "userId       662       663       664       665       666       667       668  \n",
       "userId                                                                        \n",
       "1       0.091049  0.236805  0.154519  0.245071  0.238660  0.278217  0.153479  \n",
       "2       0.146887  0.163553  0.061737  0.050948  0.051423  0.035907  0.064816  \n",
       "3       0.098949  0.310234  0.079452  0.092821  0.080940  0.158943  0.109648  \n",
       "4       0.108881  0.076241  0.014011  0.042643  0.174275  0.061677  0.157794  \n",
       "5       0.038163  0.053085  0.048993  0.055431  0.026053  0.086667  0.068275  \n",
       "\n",
       "[5 rows x 668 columns]"
      ]
     },
     "execution_count": 34,
     "metadata": {},
     "output_type": "execute_result"
    }
   ],
   "source": [
    "user_similarity = cosine_similarity(user_matrix)                                                            # the cosine similarity\n",
    "user_similarity_df = pd.DataFrame(user_similarity, index=user_matrix.index, columns=user_matrix.index)      # Converting the similarity matrix into a dataframe with user IDs as both\n",
    "user_similarity_df.head()"
   ]
  },
  {
   "cell_type": "code",
   "execution_count": 35,
   "metadata": {},
   "outputs": [],
   "source": [
    "def top_k_similar_users(user_id, k):\n",
    "    \n",
    "    similar_users = user_similarity_df[user_id].sort_values(ascending=False)    # Fetching the user_id from user_similarity_df with sort in(decending order)\n",
    "    similar_users = similar_users.drop(user_id)\n",
    "\n",
    "    return similar_users.head(k)\n"
   ]
  },
  {
   "cell_type": "code",
   "execution_count": 36,
   "metadata": {},
   "outputs": [],
   "source": [
    "def collarative_based_recommender(user_id, k, Num_recommendations):\n",
    "\n",
    "    top_k_users = top_k_similar_users(user_id, k)                                               # calling the function            \n",
    "    \n",
    "    top_k_users = user_matrix.loc[top_k_users.index]                                            # Extracting the users index\n",
    "    aggregated_ratings = top_k_users.mean(axis=0)                                               # Extracting the Avg rating\n",
    "    \n",
    "    target_user_ratings = user_matrix.loc[user_id]                                              # get the ratings given by the target user\n",
    "    movies_to_recommend = aggregated_ratings[target_user_ratings == 0]                          # get the movies that the target user has not rated yet\n",
    "    \n",
    "    top_n_movies = movies_to_recommend.sort_values(ascending=False).head(Num_recommendations)   # sorting the unrated movies(descending order)\n",
    "    top_n_movies_titles = top_n_movies.index.map(Movie['title'])                                # get the tital with the help of indices\n",
    "\n",
    "    sr_no = 1\n",
    "    for i in top_n_movies_titles :                                                               # printing the vals\n",
    "        print(sr_no,i)\n",
    "        sr_no +=1\n",
    "        \n",
    "    plt.figure(figsize=(10, 6))\n",
    "    plt.barh(top_n_movies_titles, top_n_movies, color='skyblue')\n",
    "    plt.xlabel('Aggregated Ratings')\n",
    "    plt.title(f'Top {Num_recommendations} Movie Recommendations for User {user_id}')\n",
    "    plt.show()"
   ]
  },
  {
   "cell_type": "code",
   "execution_count": 37,
   "metadata": {},
   "outputs": [
    {
     "name": "stdout",
     "output_type": "stream",
     "text": [
      "1 Kiss Me, Guido\n",
      "2 Jumanji\n",
      "3 Cyrano de Bergerac\n",
      "4 Crash\n",
      "5 Possession\n"
     ]
    },
    {
     "data": {
      "image/png": "[encoded data removed]",
      "text/plain": [
       "<Figure size 1000x600 with 1 Axes>"
      ]
     },
     "metadata": {},
     "output_type": "display_data"
    }
   ],
   "source": [
    "collab_top_movies = collarative_based_recommender(1,100,5)\n",
    "collab_top_movies"
   ]
  },
  {
   "cell_type": "markdown",
   "metadata": {},
   "source": [
    "DEPLOYMENT PROCESS:-"
   ]
  },
  {
   "cell_type": "code",
   "execution_count": 40,
   "metadata": {},
   "outputs": [],
   "source": [
    "tmdb = pd.read_csv(r\"C:\\Users\\NAMAN\\Downloads\\tmdb_5000_movies.csv\")"
   ]
  },
  {
   "cell_type": "code",
   "execution_count": 46,
   "metadata": {},
   "outputs": [],
   "source": [
    "# tmdb.head()"
   ]
  },
  {
   "cell_type": "code",
   "execution_count": 48,
   "metadata": {},
   "outputs": [
    {
     "data": {
      "text/html": [
       "<div>\n",
       "<style scoped>\n",
       "    .dataframe tbody tr th:only-of-type {\n",
       "        vertical-align: middle;\n",
       "    }\n",
       "\n",
       "    .dataframe tbody tr th {\n",
       "        vertical-align: top;\n",
       "    }\n",
       "\n",
       "    .dataframe thead th {\n",
       "        text-align: right;\n",
       "    }\n",
       "</style>\n",
       "<table border=\"1\" class=\"dataframe\">\n",
       "  <thead>\n",
       "    <tr style=\"text-align: right;\">\n",
       "      <th></th>\n",
       "      <th>id</th>\n",
       "      <th>title</th>\n",
       "    </tr>\n",
       "  </thead>\n",
       "  <tbody>\n",
       "    <tr>\n",
       "      <th>0</th>\n",
       "      <td>19995</td>\n",
       "      <td>Avatar</td>\n",
       "    </tr>\n",
       "    <tr>\n",
       "      <th>1</th>\n",
       "      <td>285</td>\n",
       "      <td>Pirates of the Caribbean: At World's End</td>\n",
       "    </tr>\n",
       "    <tr>\n",
       "      <th>2</th>\n",
       "      <td>206647</td>\n",
       "      <td>Spectre</td>\n",
       "    </tr>\n",
       "    <tr>\n",
       "      <th>3</th>\n",
       "      <td>49026</td>\n",
       "      <td>The Dark Knight Rises</td>\n",
       "    </tr>\n",
       "    <tr>\n",
       "      <th>4</th>\n",
       "      <td>49529</td>\n",
       "      <td>John Carter</td>\n",
       "    </tr>\n",
       "    <tr>\n",
       "      <th>5</th>\n",
       "      <td>559</td>\n",
       "      <td>Spider-Man 3</td>\n",
       "    </tr>\n",
       "    <tr>\n",
       "      <th>6</th>\n",
       "      <td>38757</td>\n",
       "      <td>Tangled</td>\n",
       "    </tr>\n",
       "  </tbody>\n",
       "</table>\n",
       "</div>"
      ],
      "text/plain": [
       "       id                                     title\n",
       "0   19995                                    Avatar\n",
       "1     285  Pirates of the Caribbean: At World's End\n",
       "2  206647                                   Spectre\n",
       "3   49026                     The Dark Knight Rises\n",
       "4   49529                               John Carter\n",
       "5     559                              Spider-Man 3\n",
       "6   38757                                   Tangled"
      ]
     },
     "execution_count": 48,
     "metadata": {},
     "output_type": "execute_result"
    }
   ],
   "source": [
    "# tmdb.drop(columns=['budget',\t'genres',\t'homepage',\t'keywords',\t'original_language',\t'overview',\t'popularity',\t'production_companies',\t'production_countries',\t'release_date'\t,'revenue','original_title'\t,'runtime'\t,'spoken_languages'\t,'status',\t'tagline',\t'vote_average',\t'vote_count'],inplace=True)\n",
    "tmdb.head(7)"
   ]
  },
  {
   "cell_type": "code",
   "execution_count": 67,
   "metadata": {},
   "outputs": [
    {
     "data": {
      "text/html": [
       "<div>\n",
       "<style scoped>\n",
       "    .dataframe tbody tr th:only-of-type {\n",
       "        vertical-align: middle;\n",
       "    }\n",
       "\n",
       "    .dataframe tbody tr th {\n",
       "        vertical-align: top;\n",
       "    }\n",
       "\n",
       "    .dataframe thead th {\n",
       "        text-align: right;\n",
       "    }\n",
       "</style>\n",
       "<table border=\"1\" class=\"dataframe\">\n",
       "  <thead>\n",
       "    <tr style=\"text-align: right;\">\n",
       "      <th></th>\n",
       "      <th>movieId</th>\n",
       "      <th>title</th>\n",
       "      <th>genres</th>\n",
       "      <th>year</th>\n",
       "      <th>id</th>\n",
       "    </tr>\n",
       "  </thead>\n",
       "  <tbody>\n",
       "    <tr>\n",
       "      <th>0</th>\n",
       "      <td>1</td>\n",
       "      <td>Toy Story</td>\n",
       "      <td>Adventure,Animation,Children,Comedy,Fantasy</td>\n",
       "      <td>1995</td>\n",
       "      <td>862</td>\n",
       "    </tr>\n",
       "    <tr>\n",
       "      <th>1</th>\n",
       "      <td>10</td>\n",
       "      <td>GoldenEye</td>\n",
       "      <td>Action,Adventure,Thriller</td>\n",
       "      <td>1995</td>\n",
       "      <td>710</td>\n",
       "    </tr>\n",
       "    <tr>\n",
       "      <th>2</th>\n",
       "      <td>14</td>\n",
       "      <td>Nixon</td>\n",
       "      <td>Drama</td>\n",
       "      <td>1995</td>\n",
       "      <td>10858</td>\n",
       "    </tr>\n",
       "    <tr>\n",
       "      <th>3</th>\n",
       "      <td>15</td>\n",
       "      <td>Cutthroat Island</td>\n",
       "      <td>Action,Adventure,Romance</td>\n",
       "      <td>1995</td>\n",
       "      <td>1408</td>\n",
       "    </tr>\n",
       "    <tr>\n",
       "      <th>4</th>\n",
       "      <td>16</td>\n",
       "      <td>Casino</td>\n",
       "      <td>Crime,Drama</td>\n",
       "      <td>1995</td>\n",
       "      <td>524</td>\n",
       "    </tr>\n",
       "    <tr>\n",
       "      <th>...</th>\n",
       "      <td>...</td>\n",
       "      <td>...</td>\n",
       "      <td>...</td>\n",
       "      <td>...</td>\n",
       "      <td>...</td>\n",
       "    </tr>\n",
       "    <tr>\n",
       "      <th>95</th>\n",
       "      <td>441</td>\n",
       "      <td>Dazed and Confused</td>\n",
       "      <td>Comedy</td>\n",
       "      <td>1993</td>\n",
       "      <td>9571</td>\n",
       "    </tr>\n",
       "    <tr>\n",
       "      <th>96</th>\n",
       "      <td>480</td>\n",
       "      <td>Jurassic Park</td>\n",
       "      <td>Action,Adventure,Sci-Fi,Thriller</td>\n",
       "      <td>1993</td>\n",
       "      <td>329</td>\n",
       "    </tr>\n",
       "    <tr>\n",
       "      <th>97</th>\n",
       "      <td>482</td>\n",
       "      <td>Killing Zoe</td>\n",
       "      <td>Crime,Drama,Thriller</td>\n",
       "      <td>1994</td>\n",
       "      <td>507</td>\n",
       "    </tr>\n",
       "    <tr>\n",
       "      <th>98</th>\n",
       "      <td>485</td>\n",
       "      <td>Last Action Hero</td>\n",
       "      <td>Action,Adventure,Comedy,Fantasy</td>\n",
       "      <td>1993</td>\n",
       "      <td>9593</td>\n",
       "    </tr>\n",
       "    <tr>\n",
       "      <th>99</th>\n",
       "      <td>493</td>\n",
       "      <td>Menace II Society</td>\n",
       "      <td>Action,Crime,Drama</td>\n",
       "      <td>1993</td>\n",
       "      <td>9516</td>\n",
       "    </tr>\n",
       "  </tbody>\n",
       "</table>\n",
       "<p>100 rows × 5 columns</p>\n",
       "</div>"
      ],
      "text/plain": [
       "    movieId               title                                       genres  \\\n",
       "0         1           Toy Story  Adventure,Animation,Children,Comedy,Fantasy   \n",
       "1        10           GoldenEye                    Action,Adventure,Thriller   \n",
       "2        14               Nixon                                        Drama   \n",
       "3        15    Cutthroat Island                     Action,Adventure,Romance   \n",
       "4        16              Casino                                  Crime,Drama   \n",
       "..      ...                 ...                                          ...   \n",
       "95      441  Dazed and Confused                                       Comedy   \n",
       "96      480       Jurassic Park             Action,Adventure,Sci-Fi,Thriller   \n",
       "97      482         Killing Zoe                         Crime,Drama,Thriller   \n",
       "98      485    Last Action Hero              Action,Adventure,Comedy,Fantasy   \n",
       "99      493   Menace II Society                           Action,Crime,Drama   \n",
       "\n",
       "    year     id  \n",
       "0   1995    862  \n",
       "1   1995    710  \n",
       "2   1995  10858  \n",
       "3   1995   1408  \n",
       "4   1995    524  \n",
       "..   ...    ...  \n",
       "95  1993   9571  \n",
       "96  1993    329  \n",
       "97  1994    507  \n",
       "98  1993   9593  \n",
       "99  1993   9516  \n",
       "\n",
       "[100 rows x 5 columns]"
      ]
     },
     "execution_count": 67,
     "metadata": {},
     "output_type": "execute_result"
    }
   ],
   "source": [
    "data = Movie.merge(tmdb,on='title')\n",
    "data.head(100)"
   ]
  },
  {
   "cell_type": "code",
   "execution_count": 64,
   "metadata": {},
   "outputs": [
    {
     "name": "stdout",
     "output_type": "stream",
     "text": [
      "(2882, 5)\n",
      "(10329, 4)\n"
     ]
    }
   ],
   "source": [
    "print(data.shape)\n",
    "print(Movie.shape)"
   ]
  },
  {
   "cell_type": "code",
   "execution_count": 66,
   "metadata": {},
   "outputs": [],
   "source": [
    "pickle.dump(data.to_dict(),open('data_dict.pkl','wb'))"
   ]
  },
  {
   "cell_type": "code",
   "execution_count": 72,
   "metadata": {},
   "outputs": [
    {
     "data": {
      "text/plain": [
       "(10329, 10329)"
      ]
     },
     "execution_count": 72,
     "metadata": {},
     "output_type": "execute_result"
    }
   ],
   "source": [
    "similarity.shape"
   ]
  },
  {
   "cell_type": "code",
   "execution_count": 73,
   "metadata": {},
   "outputs": [],
   "source": [
    "temp_vector = cv.fit_transform(data['genres'])"
   ]
  },
  {
   "cell_type": "code",
   "execution_count": 75,
   "metadata": {},
   "outputs": [
    {
     "data": {
      "text/plain": [
       "array([[1.        , 0.24693638, 0.        , ..., 0.        , 0.        ,\n",
       "        0.        ],\n",
       "       [0.24693638, 1.        , 0.        , ..., 0.        , 0.        ,\n",
       "        0.        ],\n",
       "       [0.        , 0.        , 1.        , ..., 0.30698467, 1.        ,\n",
       "        1.        ],\n",
       "       ...,\n",
       "       [0.        , 0.        , 0.30698467, ..., 1.        , 0.30698467,\n",
       "        0.30698467],\n",
       "       [0.        , 0.        , 1.        , ..., 0.30698467, 1.        ,\n",
       "        1.        ],\n",
       "       [0.        , 0.        , 1.        , ..., 0.30698467, 1.        ,\n",
       "        1.        ]])"
      ]
     },
     "execution_count": 75,
     "metadata": {},
     "output_type": "execute_result"
    }
   ],
   "source": [
    "temp_similarity = cosine_similarity(temp_vector)\n",
    "temp_similarity"
   ]
  },
  {
   "cell_type": "code",
   "execution_count": 76,
   "metadata": {},
   "outputs": [],
   "source": [
    "pickle.dump(temp_similarity,open('temp_similarity.pkl','wb'))"
   ]
  },
  {
   "cell_type": "code",
   "execution_count": null,
   "metadata": {},
   "outputs": [],
   "source": []
  }
 ],
 "metadata": {
  "kernelspec": {
   "display_name": "Python 3",
   "language": "python",
   "name": "python3"
  },
  "language_info": {
   "codemirror_mode": {
    "name": "ipython",
    "version": 3
   },
   "file_extension": ".py",
   "mimetype": "text/x-python",
   "name": "python",
   "nbconvert_exporter": "python",
   "pygments_lexer": "ipython3",
   "version": "3.12.2"
  }
 },
 "nbformat": 4,
 "nbformat_minor": 2
}
