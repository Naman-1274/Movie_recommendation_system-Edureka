{
 "cells": [
  {
   "cell_type": "code",
   "execution_count": 2,
   "metadata": {},
   "outputs": [],
   "source": [
    "import numpy as np\n",
    "import pandas as pd\n",
    "import matplotlib.pyplot as plt\n",
    "%matplotlib inline\n",
    "import seaborn as sns\n",
    "import warnings\n",
    "warnings.filterwarnings('ignore')"
   ]
  },
  {
   "cell_type": "code",
   "execution_count": 3,
   "metadata": {},
   "outputs": [],
   "source": [
    "Movie = pd.read_csv(r\"C:\\Users\\NAMAN\\Downloads\\movies.csv\")\n",
    "Rating = pd.read_csv(r\"C:\\Users\\NAMAN\\Downloads\\ratings.csv\")"
   ]
  },
  {
   "cell_type": "code",
   "execution_count": 4,
   "metadata": {},
   "outputs": [
    {
     "name": "stdout",
     "output_type": "stream",
     "text": [
      "(10329, 3)\n"
     ]
    },
    {
     "data": {
      "text/html": [
       "<div>\n",
       "<style scoped>\n",
       "    .dataframe tbody tr th:only-of-type {\n",
       "        vertical-align: middle;\n",
       "    }\n",
       "\n",
       "    .dataframe tbody tr th {\n",
       "        vertical-align: top;\n",
       "    }\n",
       "\n",
       "    .dataframe thead th {\n",
       "        text-align: right;\n",
       "    }\n",
       "</style>\n",
       "<table border=\"1\" class=\"dataframe\">\n",
       "  <thead>\n",
       "    <tr style=\"text-align: right;\">\n",
       "      <th></th>\n",
       "      <th>movieId</th>\n",
       "      <th>title</th>\n",
       "      <th>genres</th>\n",
       "    </tr>\n",
       "  </thead>\n",
       "  <tbody>\n",
       "    <tr>\n",
       "      <th>0</th>\n",
       "      <td>1</td>\n",
       "      <td>Toy Story (1995)</td>\n",
       "      <td>Adventure|Animation|Children|Comedy|Fantasy</td>\n",
       "    </tr>\n",
       "    <tr>\n",
       "      <th>1</th>\n",
       "      <td>2</td>\n",
       "      <td>Jumanji (1995)</td>\n",
       "      <td>Adventure|Children|Fantasy</td>\n",
       "    </tr>\n",
       "    <tr>\n",
       "      <th>2</th>\n",
       "      <td>3</td>\n",
       "      <td>Grumpier Old Men (1995)</td>\n",
       "      <td>Comedy|Romance</td>\n",
       "    </tr>\n",
       "    <tr>\n",
       "      <th>3</th>\n",
       "      <td>4</td>\n",
       "      <td>Waiting to Exhale (1995)</td>\n",
       "      <td>Comedy|Drama|Romance</td>\n",
       "    </tr>\n",
       "    <tr>\n",
       "      <th>4</th>\n",
       "      <td>5</td>\n",
       "      <td>Father of the Bride Part II (1995)</td>\n",
       "      <td>Comedy</td>\n",
       "    </tr>\n",
       "  </tbody>\n",
       "</table>\n",
       "</div>"
      ],
      "text/plain": [
       "   movieId                               title  \\\n",
       "0        1                    Toy Story (1995)   \n",
       "1        2                      Jumanji (1995)   \n",
       "2        3             Grumpier Old Men (1995)   \n",
       "3        4            Waiting to Exhale (1995)   \n",
       "4        5  Father of the Bride Part II (1995)   \n",
       "\n",
       "                                        genres  \n",
       "0  Adventure|Animation|Children|Comedy|Fantasy  \n",
       "1                   Adventure|Children|Fantasy  \n",
       "2                               Comedy|Romance  \n",
       "3                         Comedy|Drama|Romance  \n",
       "4                                       Comedy  "
      ]
     },
     "execution_count": 4,
     "metadata": {},
     "output_type": "execute_result"
    }
   ],
   "source": [
    "print(Movie.shape)\n",
    "Movie.head()"
   ]
  },
  {
   "cell_type": "code",
   "execution_count": 5,
   "metadata": {},
   "outputs": [
    {
     "name": "stdout",
     "output_type": "stream",
     "text": [
      "movieId    0\n",
      "title      0\n",
      "genres     0\n",
      "dtype: int64\n",
      "<class 'pandas.core.frame.DataFrame'>\n",
      "RangeIndex: 10329 entries, 0 to 10328\n",
      "Data columns (total 3 columns):\n",
      " #   Column   Non-Null Count  Dtype \n",
      "---  ------   --------------  ----- \n",
      " 0   movieId  10329 non-null  int64 \n",
      " 1   title    10329 non-null  object\n",
      " 2   genres   10329 non-null  object\n",
      "dtypes: int64(1), object(2)\n",
      "memory usage: 242.2+ KB\n",
      "None\n"
     ]
    }
   ],
   "source": [
    "print(Movie.isna().sum())\n",
    "print(Movie.info())"
   ]
  },
  {
   "cell_type": "code",
   "execution_count": 6,
   "metadata": {},
   "outputs": [
    {
     "name": "stdout",
     "output_type": "stream",
     "text": [
      "0\n"
     ]
    },
    {
     "data": {
      "text/html": [
       "<div>\n",
       "<style scoped>\n",
       "    .dataframe tbody tr th:only-of-type {\n",
       "        vertical-align: middle;\n",
       "    }\n",
       "\n",
       "    .dataframe tbody tr th {\n",
       "        vertical-align: top;\n",
       "    }\n",
       "\n",
       "    .dataframe thead th {\n",
       "        text-align: right;\n",
       "    }\n",
       "</style>\n",
       "<table border=\"1\" class=\"dataframe\">\n",
       "  <thead>\n",
       "    <tr style=\"text-align: right;\">\n",
       "      <th></th>\n",
       "      <th>movieId</th>\n",
       "    </tr>\n",
       "  </thead>\n",
       "  <tbody>\n",
       "    <tr>\n",
       "      <th>count</th>\n",
       "      <td>10329.000000</td>\n",
       "    </tr>\n",
       "    <tr>\n",
       "      <th>mean</th>\n",
       "      <td>31924.282893</td>\n",
       "    </tr>\n",
       "    <tr>\n",
       "      <th>std</th>\n",
       "      <td>37734.741149</td>\n",
       "    </tr>\n",
       "    <tr>\n",
       "      <th>min</th>\n",
       "      <td>1.000000</td>\n",
       "    </tr>\n",
       "    <tr>\n",
       "      <th>25%</th>\n",
       "      <td>3240.000000</td>\n",
       "    </tr>\n",
       "    <tr>\n",
       "      <th>50%</th>\n",
       "      <td>7088.000000</td>\n",
       "    </tr>\n",
       "    <tr>\n",
       "      <th>75%</th>\n",
       "      <td>59900.000000</td>\n",
       "    </tr>\n",
       "    <tr>\n",
       "      <th>max</th>\n",
       "      <td>149532.000000</td>\n",
       "    </tr>\n",
       "  </tbody>\n",
       "</table>\n",
       "</div>"
      ],
      "text/plain": [
       "             movieId\n",
       "count   10329.000000\n",
       "mean    31924.282893\n",
       "std     37734.741149\n",
       "min         1.000000\n",
       "25%      3240.000000\n",
       "50%      7088.000000\n",
       "75%     59900.000000\n",
       "max    149532.000000"
      ]
     },
     "execution_count": 6,
     "metadata": {},
     "output_type": "execute_result"
    }
   ],
   "source": [
    "print(Movie.duplicated().sum())\n",
    "Movie.describe()"
   ]
  },
  {
   "cell_type": "code",
   "execution_count": 7,
   "metadata": {},
   "outputs": [
    {
     "name": "stdout",
     "output_type": "stream",
     "text": [
      "(105339, 4)\n"
     ]
    },
    {
     "data": {
      "text/html": [
       "<div>\n",
       "<style scoped>\n",
       "    .dataframe tbody tr th:only-of-type {\n",
       "        vertical-align: middle;\n",
       "    }\n",
       "\n",
       "    .dataframe tbody tr th {\n",
       "        vertical-align: top;\n",
       "    }\n",
       "\n",
       "    .dataframe thead th {\n",
       "        text-align: right;\n",
       "    }\n",
       "</style>\n",
       "<table border=\"1\" class=\"dataframe\">\n",
       "  <thead>\n",
       "    <tr style=\"text-align: right;\">\n",
       "      <th></th>\n",
       "      <th>userId</th>\n",
       "      <th>movieId</th>\n",
       "      <th>rating</th>\n",
       "      <th>timestamp</th>\n",
       "    </tr>\n",
       "  </thead>\n",
       "  <tbody>\n",
       "    <tr>\n",
       "      <th>0</th>\n",
       "      <td>1</td>\n",
       "      <td>16</td>\n",
       "      <td>4.0</td>\n",
       "      <td>1217897793</td>\n",
       "    </tr>\n",
       "    <tr>\n",
       "      <th>1</th>\n",
       "      <td>1</td>\n",
       "      <td>24</td>\n",
       "      <td>1.5</td>\n",
       "      <td>1217895807</td>\n",
       "    </tr>\n",
       "    <tr>\n",
       "      <th>2</th>\n",
       "      <td>1</td>\n",
       "      <td>32</td>\n",
       "      <td>4.0</td>\n",
       "      <td>1217896246</td>\n",
       "    </tr>\n",
       "    <tr>\n",
       "      <th>3</th>\n",
       "      <td>1</td>\n",
       "      <td>47</td>\n",
       "      <td>4.0</td>\n",
       "      <td>1217896556</td>\n",
       "    </tr>\n",
       "    <tr>\n",
       "      <th>4</th>\n",
       "      <td>1</td>\n",
       "      <td>50</td>\n",
       "      <td>4.0</td>\n",
       "      <td>1217896523</td>\n",
       "    </tr>\n",
       "  </tbody>\n",
       "</table>\n",
       "</div>"
      ],
      "text/plain": [
       "   userId  movieId  rating   timestamp\n",
       "0       1       16     4.0  1217897793\n",
       "1       1       24     1.5  1217895807\n",
       "2       1       32     4.0  1217896246\n",
       "3       1       47     4.0  1217896556\n",
       "4       1       50     4.0  1217896523"
      ]
     },
     "execution_count": 7,
     "metadata": {},
     "output_type": "execute_result"
    }
   ],
   "source": [
    "print(Rating.shape)\n",
    "Rating.head()"
   ]
  },
  {
   "cell_type": "code",
   "execution_count": 8,
   "metadata": {},
   "outputs": [
    {
     "name": "stdout",
     "output_type": "stream",
     "text": [
      "userId       0\n",
      "movieId      0\n",
      "rating       0\n",
      "timestamp    0\n",
      "dtype: int64\n",
      "<class 'pandas.core.frame.DataFrame'>\n",
      "RangeIndex: 105339 entries, 0 to 105338\n",
      "Data columns (total 4 columns):\n",
      " #   Column     Non-Null Count   Dtype  \n",
      "---  ------     --------------   -----  \n",
      " 0   userId     105339 non-null  int64  \n",
      " 1   movieId    105339 non-null  int64  \n",
      " 2   rating     105339 non-null  float64\n",
      " 3   timestamp  105339 non-null  int64  \n",
      "dtypes: float64(1), int64(3)\n",
      "memory usage: 3.2 MB\n",
      "None\n"
     ]
    }
   ],
   "source": [
    "print(Rating.isna().sum())\n",
    "print(Rating.info())"
   ]
  },
  {
   "cell_type": "code",
   "execution_count": 11,
   "metadata": {},
   "outputs": [
    {
     "name": "stdout",
     "output_type": "stream",
     "text": [
      "0\n",
      "movieId\n",
      "296       325\n",
      "356       311\n",
      "318       308\n",
      "480       294\n",
      "593       290\n",
      "         ... \n",
      "133583      1\n",
      "132961      1\n",
      "132883      1\n",
      "132800      1\n",
      "132796      1\n",
      "Name: count, Length: 10325, dtype: int64\n"
     ]
    }
   ],
   "source": [
    "print(Rating.duplicated().sum())\n",
    "print(Rating['movieId'].value_counts())"
   ]
  },
  {
   "cell_type": "code",
   "execution_count": 12,
   "metadata": {},
   "outputs": [
    {
     "data": {
      "text/html": [
       "<div>\n",
       "<style scoped>\n",
       "    .dataframe tbody tr th:only-of-type {\n",
       "        vertical-align: middle;\n",
       "    }\n",
       "\n",
       "    .dataframe tbody tr th {\n",
       "        vertical-align: top;\n",
       "    }\n",
       "\n",
       "    .dataframe thead th {\n",
       "        text-align: right;\n",
       "    }\n",
       "</style>\n",
       "<table border=\"1\" class=\"dataframe\">\n",
       "  <thead>\n",
       "    <tr style=\"text-align: right;\">\n",
       "      <th></th>\n",
       "      <th>userId</th>\n",
       "      <th>movieId</th>\n",
       "      <th>rating</th>\n",
       "      <th>timestamp</th>\n",
       "    </tr>\n",
       "  </thead>\n",
       "  <tbody>\n",
       "    <tr>\n",
       "      <th>count</th>\n",
       "      <td>105339.000000</td>\n",
       "      <td>105339.000000</td>\n",
       "      <td>105339.000000</td>\n",
       "      <td>1.053390e+05</td>\n",
       "    </tr>\n",
       "    <tr>\n",
       "      <th>mean</th>\n",
       "      <td>364.924539</td>\n",
       "      <td>13381.312477</td>\n",
       "      <td>3.516850</td>\n",
       "      <td>1.130424e+09</td>\n",
       "    </tr>\n",
       "    <tr>\n",
       "      <th>std</th>\n",
       "      <td>197.486905</td>\n",
       "      <td>26170.456869</td>\n",
       "      <td>1.044872</td>\n",
       "      <td>1.802660e+08</td>\n",
       "    </tr>\n",
       "    <tr>\n",
       "      <th>min</th>\n",
       "      <td>1.000000</td>\n",
       "      <td>1.000000</td>\n",
       "      <td>0.500000</td>\n",
       "      <td>8.285650e+08</td>\n",
       "    </tr>\n",
       "    <tr>\n",
       "      <th>25%</th>\n",
       "      <td>192.000000</td>\n",
       "      <td>1073.000000</td>\n",
       "      <td>3.000000</td>\n",
       "      <td>9.711008e+08</td>\n",
       "    </tr>\n",
       "    <tr>\n",
       "      <th>50%</th>\n",
       "      <td>383.000000</td>\n",
       "      <td>2497.000000</td>\n",
       "      <td>3.500000</td>\n",
       "      <td>1.115154e+09</td>\n",
       "    </tr>\n",
       "    <tr>\n",
       "      <th>75%</th>\n",
       "      <td>557.000000</td>\n",
       "      <td>5991.000000</td>\n",
       "      <td>4.000000</td>\n",
       "      <td>1.275496e+09</td>\n",
       "    </tr>\n",
       "    <tr>\n",
       "      <th>max</th>\n",
       "      <td>668.000000</td>\n",
       "      <td>149532.000000</td>\n",
       "      <td>5.000000</td>\n",
       "      <td>1.452405e+09</td>\n",
       "    </tr>\n",
       "  </tbody>\n",
       "</table>\n",
       "</div>"
      ],
      "text/plain": [
       "              userId        movieId         rating     timestamp\n",
       "count  105339.000000  105339.000000  105339.000000  1.053390e+05\n",
       "mean      364.924539   13381.312477       3.516850  1.130424e+09\n",
       "std       197.486905   26170.456869       1.044872  1.802660e+08\n",
       "min         1.000000       1.000000       0.500000  8.285650e+08\n",
       "25%       192.000000    1073.000000       3.000000  9.711008e+08\n",
       "50%       383.000000    2497.000000       3.500000  1.115154e+09\n",
       "75%       557.000000    5991.000000       4.000000  1.275496e+09\n",
       "max       668.000000  149532.000000       5.000000  1.452405e+09"
      ]
     },
     "execution_count": 12,
     "metadata": {},
     "output_type": "execute_result"
    }
   ],
   "source": [
    "Rating.describe()"
   ]
  },
  {
   "cell_type": "code",
   "execution_count": 13,
   "metadata": {},
   "outputs": [],
   "source": [
    "def fetch_title_year(obj):\n",
    "    title = obj[:obj.index('(')].strip()\n",
    "    year = obj[obj.index('(') + 1:obj.index(')')]\n",
    "    return title, year"
   ]
  },
  {
   "cell_type": "code",
   "execution_count": 14,
   "metadata": {},
   "outputs": [],
   "source": [
    "Movie[['title', 'year']] = Movie['title'].apply(lambda x: pd.Series(fetch_title_year(x)))"
   ]
  },
  {
   "cell_type": "code",
   "execution_count": 15,
   "metadata": {},
   "outputs": [],
   "source": [
    "Movie['genres'] = Movie['genres'].str.replace('|',',')"
   ]
  },
  {
   "cell_type": "code",
   "execution_count": 16,
   "metadata": {},
   "outputs": [],
   "source": [
    "Rating['timestamp'] = pd.to_datetime(Rating['timestamp'],unit='s')"
   ]
  },
  {
   "cell_type": "code",
   "execution_count": 17,
   "metadata": {},
   "outputs": [
    {
     "data": {
      "text/html": [
       "<div>\n",
       "<style scoped>\n",
       "    .dataframe tbody tr th:only-of-type {\n",
       "        vertical-align: middle;\n",
       "    }\n",
       "\n",
       "    .dataframe tbody tr th {\n",
       "        vertical-align: top;\n",
       "    }\n",
       "\n",
       "    .dataframe thead th {\n",
       "        text-align: right;\n",
       "    }\n",
       "</style>\n",
       "<table border=\"1\" class=\"dataframe\">\n",
       "  <thead>\n",
       "    <tr style=\"text-align: right;\">\n",
       "      <th></th>\n",
       "      <th>movieId</th>\n",
       "      <th>title</th>\n",
       "      <th>genres</th>\n",
       "      <th>year</th>\n",
       "      <th>userId</th>\n",
       "      <th>rating</th>\n",
       "      <th>timestamp</th>\n",
       "    </tr>\n",
       "  </thead>\n",
       "  <tbody>\n",
       "    <tr>\n",
       "      <th>0</th>\n",
       "      <td>1</td>\n",
       "      <td>Toy Story</td>\n",
       "      <td>Adventure,Animation,Children,Comedy,Fantasy</td>\n",
       "      <td>1995</td>\n",
       "      <td>2</td>\n",
       "      <td>5.0</td>\n",
       "      <td>1997-03-22 16:08:15</td>\n",
       "    </tr>\n",
       "    <tr>\n",
       "      <th>1</th>\n",
       "      <td>1</td>\n",
       "      <td>Toy Story</td>\n",
       "      <td>Adventure,Animation,Children,Comedy,Fantasy</td>\n",
       "      <td>1995</td>\n",
       "      <td>5</td>\n",
       "      <td>4.0</td>\n",
       "      <td>2011-04-22 19:37:19</td>\n",
       "    </tr>\n",
       "    <tr>\n",
       "      <th>2</th>\n",
       "      <td>1</td>\n",
       "      <td>Toy Story</td>\n",
       "      <td>Adventure,Animation,Children,Comedy,Fantasy</td>\n",
       "      <td>1995</td>\n",
       "      <td>8</td>\n",
       "      <td>5.0</td>\n",
       "      <td>1997-03-17 15:02:13</td>\n",
       "    </tr>\n",
       "    <tr>\n",
       "      <th>3</th>\n",
       "      <td>1</td>\n",
       "      <td>Toy Story</td>\n",
       "      <td>Adventure,Animation,Children,Comedy,Fantasy</td>\n",
       "      <td>1995</td>\n",
       "      <td>11</td>\n",
       "      <td>4.0</td>\n",
       "      <td>1996-12-17 09:43:30</td>\n",
       "    </tr>\n",
       "    <tr>\n",
       "      <th>4</th>\n",
       "      <td>1</td>\n",
       "      <td>Toy Story</td>\n",
       "      <td>Adventure,Animation,Children,Comedy,Fantasy</td>\n",
       "      <td>1995</td>\n",
       "      <td>14</td>\n",
       "      <td>4.0</td>\n",
       "      <td>1996-12-28 09:44:46</td>\n",
       "    </tr>\n",
       "  </tbody>\n",
       "</table>\n",
       "</div>"
      ],
      "text/plain": [
       "   movieId      title                                       genres  year  \\\n",
       "0        1  Toy Story  Adventure,Animation,Children,Comedy,Fantasy  1995   \n",
       "1        1  Toy Story  Adventure,Animation,Children,Comedy,Fantasy  1995   \n",
       "2        1  Toy Story  Adventure,Animation,Children,Comedy,Fantasy  1995   \n",
       "3        1  Toy Story  Adventure,Animation,Children,Comedy,Fantasy  1995   \n",
       "4        1  Toy Story  Adventure,Animation,Children,Comedy,Fantasy  1995   \n",
       "\n",
       "   userId  rating           timestamp  \n",
       "0       2     5.0 1997-03-22 16:08:15  \n",
       "1       5     4.0 2011-04-22 19:37:19  \n",
       "2       8     5.0 1997-03-17 15:02:13  \n",
       "3      11     4.0 1996-12-17 09:43:30  \n",
       "4      14     4.0 1996-12-28 09:44:46  "
      ]
     },
     "execution_count": 17,
     "metadata": {},
     "output_type": "execute_result"
    }
   ],
   "source": [
    "df = Movie.merge(Rating,on='movieId')\n",
    "df.head()"
   ]
  },
  {
   "cell_type": "code",
   "execution_count": 18,
   "metadata": {},
   "outputs": [
    {
     "name": "stdout",
     "output_type": "stream",
     "text": [
      "(105339, 7)\n"
     ]
    },
    {
     "data": {
      "text/html": [
       "<div>\n",
       "<style scoped>\n",
       "    .dataframe tbody tr th:only-of-type {\n",
       "        vertical-align: middle;\n",
       "    }\n",
       "\n",
       "    .dataframe tbody tr th {\n",
       "        vertical-align: top;\n",
       "    }\n",
       "\n",
       "    .dataframe thead th {\n",
       "        text-align: right;\n",
       "    }\n",
       "</style>\n",
       "<table border=\"1\" class=\"dataframe\">\n",
       "  <thead>\n",
       "    <tr style=\"text-align: right;\">\n",
       "      <th></th>\n",
       "      <th>movieId</th>\n",
       "      <th>userId</th>\n",
       "      <th>rating</th>\n",
       "      <th>timestamp</th>\n",
       "    </tr>\n",
       "  </thead>\n",
       "  <tbody>\n",
       "    <tr>\n",
       "      <th>count</th>\n",
       "      <td>105339.000000</td>\n",
       "      <td>105339.000000</td>\n",
       "      <td>105339.000000</td>\n",
       "      <td>105339</td>\n",
       "    </tr>\n",
       "    <tr>\n",
       "      <th>mean</th>\n",
       "      <td>13381.312477</td>\n",
       "      <td>364.924539</td>\n",
       "      <td>3.516850</td>\n",
       "      <td>2005-10-27 14:39:31.974254592</td>\n",
       "    </tr>\n",
       "    <tr>\n",
       "      <th>min</th>\n",
       "      <td>1.000000</td>\n",
       "      <td>1.000000</td>\n",
       "      <td>0.500000</td>\n",
       "      <td>1996-04-03 20:55:54</td>\n",
       "    </tr>\n",
       "    <tr>\n",
       "      <th>25%</th>\n",
       "      <td>1073.000000</td>\n",
       "      <td>192.000000</td>\n",
       "      <td>3.000000</td>\n",
       "      <td>2000-10-09 14:13:17.500000</td>\n",
       "    </tr>\n",
       "    <tr>\n",
       "      <th>50%</th>\n",
       "      <td>2497.000000</td>\n",
       "      <td>383.000000</td>\n",
       "      <td>3.500000</td>\n",
       "      <td>2005-05-03 21:00:56</td>\n",
       "    </tr>\n",
       "    <tr>\n",
       "      <th>75%</th>\n",
       "      <td>5991.000000</td>\n",
       "      <td>557.000000</td>\n",
       "      <td>4.000000</td>\n",
       "      <td>2010-06-02 16:26:38.500000</td>\n",
       "    </tr>\n",
       "    <tr>\n",
       "      <th>max</th>\n",
       "      <td>149532.000000</td>\n",
       "      <td>668.000000</td>\n",
       "      <td>5.000000</td>\n",
       "      <td>2016-01-10 05:48:39</td>\n",
       "    </tr>\n",
       "    <tr>\n",
       "      <th>std</th>\n",
       "      <td>26170.456869</td>\n",
       "      <td>197.486905</td>\n",
       "      <td>1.044872</td>\n",
       "      <td>NaN</td>\n",
       "    </tr>\n",
       "  </tbody>\n",
       "</table>\n",
       "</div>"
      ],
      "text/plain": [
       "             movieId         userId         rating  \\\n",
       "count  105339.000000  105339.000000  105339.000000   \n",
       "mean    13381.312477     364.924539       3.516850   \n",
       "min         1.000000       1.000000       0.500000   \n",
       "25%      1073.000000     192.000000       3.000000   \n",
       "50%      2497.000000     383.000000       3.500000   \n",
       "75%      5991.000000     557.000000       4.000000   \n",
       "max    149532.000000     668.000000       5.000000   \n",
       "std     26170.456869     197.486905       1.044872   \n",
       "\n",
       "                           timestamp  \n",
       "count                         105339  \n",
       "mean   2005-10-27 14:39:31.974254592  \n",
       "min              1996-04-03 20:55:54  \n",
       "25%       2000-10-09 14:13:17.500000  \n",
       "50%              2005-05-03 21:00:56  \n",
       "75%       2010-06-02 16:26:38.500000  \n",
       "max              2016-01-10 05:48:39  \n",
       "std                              NaN  "
      ]
     },
     "execution_count": 18,
     "metadata": {},
     "output_type": "execute_result"
    }
   ],
   "source": [
    "print(df.shape)\n",
    "df.describe()"
   ]
  },
  {
   "cell_type": "code",
   "execution_count": 19,
   "metadata": {},
   "outputs": [
    {
     "data": {
      "text/plain": [
       "title\n",
       "Pulp Fiction                       325\n",
       "Forrest Gump                       311\n",
       "Shawshank Redemption, The          308\n",
       "Jurassic Park                      294\n",
       "Silence of the Lambs, The          290\n",
       "                                  ... \n",
       "Plenty                               1\n",
       "Assassination                        1\n",
       "Runoff                               1\n",
       "Women of the Prehistoric Planet      1\n",
       "Velocity of Gary, The                1\n",
       "Name: count, Length: 9944, dtype: int64"
      ]
     },
     "execution_count": 19,
     "metadata": {},
     "output_type": "execute_result"
    }
   ],
   "source": [
    "df['title'].value_counts()"
   ]
  },
  {
   "cell_type": "markdown",
   "metadata": {},
   "source": [
    "Objective\n",
    "\n",
    "Create a popularity based recommender system at a genre level :-"
   ]
  },
  {
   "cell_type": "code",
   "execution_count": 58,
   "metadata": {},
   "outputs": [],
   "source": [
    "def recommender(genre, review_threshold, Num_recommendations):\n",
    "    movie_genre = df[df['genres'].str.contains(genre)]\n",
    "    vals = movie_genre.groupby(['title']).agg({'rating': ['mean', 'count']}).reset_index()\n",
    "    vals.columns=['title','Avg_rating','num_reviews']\n",
    "    filtered_vals = vals[vals['num_reviews'] >= review_threshold]\n",
    "    top_movies = filtered_vals.sort_values('Avg_rating',ascending=False).head(Num_recommendations)\n",
    "    return top_movies"
   ]
  },
  {
   "cell_type": "code",
   "execution_count": 59,
   "metadata": {},
   "outputs": [
    {
     "data": {
      "text/html": [
       "<div>\n",
       "<style scoped>\n",
       "    .dataframe tbody tr th:only-of-type {\n",
       "        vertical-align: middle;\n",
       "    }\n",
       "\n",
       "    .dataframe tbody tr th {\n",
       "        vertical-align: top;\n",
       "    }\n",
       "\n",
       "    .dataframe thead th {\n",
       "        text-align: right;\n",
       "    }\n",
       "</style>\n",
       "<table border=\"1\" class=\"dataframe\">\n",
       "  <thead>\n",
       "    <tr style=\"text-align: right;\">\n",
       "      <th></th>\n",
       "      <th>title</th>\n",
       "      <th>Avg_rating</th>\n",
       "      <th>num_reviews</th>\n",
       "    </tr>\n",
       "  </thead>\n",
       "  <tbody>\n",
       "    <tr>\n",
       "      <th>2059</th>\n",
       "      <td>Monty Python and the Holy Grail</td>\n",
       "      <td>4.301948</td>\n",
       "      <td>154</td>\n",
       "    </tr>\n",
       "    <tr>\n",
       "      <th>983</th>\n",
       "      <td>Fargo</td>\n",
       "      <td>4.271144</td>\n",
       "      <td>201</td>\n",
       "    </tr>\n",
       "    <tr>\n",
       "      <th>2457</th>\n",
       "      <td>Princess Bride, The</td>\n",
       "      <td>4.163743</td>\n",
       "      <td>171</td>\n",
       "    </tr>\n",
       "    <tr>\n",
       "      <th>2480</th>\n",
       "      <td>Pulp Fiction</td>\n",
       "      <td>4.160000</td>\n",
       "      <td>325</td>\n",
       "    </tr>\n",
       "    <tr>\n",
       "      <th>1055</th>\n",
       "      <td>Forrest Gump</td>\n",
       "      <td>4.138264</td>\n",
       "      <td>311</td>\n",
       "    </tr>\n",
       "  </tbody>\n",
       "</table>\n",
       "</div>"
      ],
      "text/plain": [
       "                                title  Avg_rating  num_reviews\n",
       "2059  Monty Python and the Holy Grail    4.301948          154\n",
       "983                             Fargo    4.271144          201\n",
       "2457              Princess Bride, The    4.163743          171\n",
       "2480                     Pulp Fiction    4.160000          325\n",
       "1055                     Forrest Gump    4.138264          311"
      ]
     },
     "execution_count": 59,
     "metadata": {},
     "output_type": "execute_result"
    }
   ],
   "source": [
    "Top5_Movies = recommender('Comedy',100,5)\n",
    "Top5_Movies.head()"
   ]
  },
  {
   "cell_type": "code",
   "execution_count": 43,
   "metadata": {},
   "outputs": [
    {
     "data": {
      "image/png": "[encoded data removed]",
      "text/plain": [
       "<Figure size 600x600 with 1 Axes>"
      ]
     },
     "metadata": {},
     "output_type": "display_data"
    }
   ],
   "source": [
    "plt.figure(figsize=(6,6))\n",
    "sns.barplot(data=Top5_Movies,x='Avg_rating',y='title',color='green')\n",
    "plt.xlabel('Avg_rating')\n",
    "plt.ylabel('title')\n",
    "plt.show()"
   ]
  },
  {
   "cell_type": "markdown",
   "metadata": {},
   "source": [
    "Objective\n",
    "\n",
    "Create a content based recommender system :-"
   ]
  },
  {
   "cell_type": "code",
   "execution_count": 60,
   "metadata": {},
   "outputs": [],
   "source": [
    "# def content_based_recommender(movie_title, Num_recommendations):\n",
    "   \n",
    "#     movie_genres = df[df['title'] == movie_title]['genres'].values[0]\n",
    "#     similar_movies = df[df['genres'] == movie_genres]['title'].unique()\n",
    "#     similar_movies = [movie for movie in similar_movies if movie != movie_title]\n",
    "#     return similar_movies[:Num_recommendations]\n"
   ]
  },
  {
   "cell_type": "code",
   "execution_count": 61,
   "metadata": {},
   "outputs": [],
   "source": [
    "# content_based_recommender('Toy Story',5)"
   ]
  },
  {
   "cell_type": "code",
   "execution_count": 47,
   "metadata": {},
   "outputs": [],
   "source": [
    "from sklearn.feature_extraction.text import TfidfVectorizer\n",
    "from sklearn.metrics.pairwise import cosine_similarity\n",
    "from sklearn.metrics.pairwise import linear_kernel"
   ]
  },
  {
   "cell_type": "code",
   "execution_count": 51,
   "metadata": {},
   "outputs": [],
   "source": [
    "cv = TfidfVectorizer()\n",
    "vectors = cv.fit_transform(Movie['genres'])"
   ]
  },
  {
   "cell_type": "code",
   "execution_count": 72,
   "metadata": {},
   "outputs": [
    {
     "data": {
      "text/plain": [
       "array([[1.        , 0.79977247, 0.1589222 , ..., 0.2638368 , 0.        ,\n",
       "        0.        ],\n",
       "       [0.79977247, 1.        , 0.        , ..., 0.        , 0.        ,\n",
       "        0.        ],\n",
       "       [0.1589222 , 0.        , 1.        , ..., 0.60235038, 0.        ,\n",
       "        0.        ],\n",
       "       ...,\n",
       "       [0.2638368 , 0.        , 0.60235038, ..., 1.        , 0.        ,\n",
       "        0.        ],\n",
       "       [0.        , 0.        , 0.        , ..., 0.        , 1.        ,\n",
       "        0.        ],\n",
       "       [0.        , 0.        , 0.        , ..., 0.        , 0.        ,\n",
       "        1.        ]])"
      ]
     },
     "execution_count": 72,
     "metadata": {},
     "output_type": "execute_result"
    }
   ],
   "source": [
    "similarity = cosine_similarity(vectors)\n",
    "similarity"
   ]
  },
  {
   "cell_type": "code",
   "execution_count": 79,
   "metadata": {},
   "outputs": [],
   "source": [
    "def content_based_recommender(movie_title, Num_recommendations):\n",
    "    idx = Movie[Movie['title'] == movie_title].index\n",
    "    distance = similarity[idx]\n",
    "    Top_Movies = sorted(list(enumerate(distance)),reverse=True,key= lambda x : x[1])[1:6]\n",
    "    \n",
    "    for i in Top_Movies :\n",
    "        print(i)"
   ]
  },
  {
   "cell_type": "code",
   "execution_count": 78,
   "metadata": {},
   "outputs": [],
   "source": [
    "content_based_recommender('Toy Story',5)"
   ]
  },
  {
   "cell_type": "code",
   "execution_count": null,
   "metadata": {},
   "outputs": [],
   "source": []
  }
 ],
 "metadata": {
  "kernelspec": {
   "display_name": "Python 3",
   "language": "python",
   "name": "python3"
  },
  "language_info": {
   "codemirror_mode": {
    "name": "ipython",
    "version": 3
   },
   "file_extension": ".py",
   "mimetype": "text/x-python",
   "name": "python",
   "nbconvert_exporter": "python",
   "pygments_lexer": "ipython3",
   "version": "3.12.2"
  }
 },
 "nbformat": 4,
 "nbformat_minor": 2
}
